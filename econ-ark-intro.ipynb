{
 "cells": [
  {
   "cell_type": "markdown",
   "id": "547110e7",
   "metadata": {
    "slideshow": {
     "controls": false,
     "height": "100%",
     "progress": true,
     "scroll": true,
     "slide_type": "slide",
     "width": "100%"
    }
   },
   "source": [
    "<h1 style=\"text-align: center;\"><a href=\"https://github.com/econ-ark.org\">The Econ-ARK Project</h1>\n",
    "<h3 style=\"text-align: center;\">by Byrne, Corrado, Kennickell</h3>\n",
    "\n",
    "&nbsp;\n",
    "\n",
    "<h4 style=\"text-align: center;\"><a href=\"https://github.com/econ-ark/REMARK\">REMARK</a>s by Christopher D. Carroll</h4>\n",
    "<h5 style=\"text-align: center;\"><strong>Formerly of the Division of Research and Statistics: 1990-95</strong></h5>\n",
    "<h5 style=\"text-align: center;\">Johns Hopkins University (1995-2024)</h5>\n",
    "\n",
    "&nbsp;\n",
    "<h4 style=\"text-align: center;\">Federal Reserve Micro to Macro Conference</h4>\n",
    "<h4 style=\"text-align: center;\">February 21 2024</h4>\n",
    "\n",
    "<h6 style=\"text-align: center;\"><a href=\"https://econ-ark.org/materials/econ-ark-intro\">https://econ-ark.org/materials/econ-ark-intro</a></h6>"
   ]
  },
  {
   "cell_type": "markdown",
   "id": "fc593848-965d-44a8-8a69-0ec4e0580c0c",
   "metadata": {
    "slideshow": {
     "slide_type": "slide"
    },
    "tags": []
   },
   "source": [
    "<h3 style=\"text-align: center;\">Two Forks</h3>"
   ]
  },
  {
   "cell_type": "markdown",
   "id": "9e45f2dd-5953-463d-ae89-ab9cfee8f7eb",
   "metadata": {
    "slideshow": {
     "slide_type": "fragment"
    },
    "tags": []
   },
   "source": [
    "Toolkit\n",
    "\n",
    "- "
   ]
  }
 ],
 "metadata": {
  "celltoolbar": "Slideshow",
  "kernelspec": {
   "display_name": "Python 3 (ipykernel)",
   "language": "python",
   "name": "python3"
  },
  "language_info": {
   "codemirror_mode": {
    "name": "ipython",
    "version": 3
   },
   "file_extension": ".py",
   "mimetype": "text/x-python",
   "name": "python",
   "nbconvert_exporter": "python",
   "pygments_lexer": "ipython3",
   "version": "3.10.10"
  }
 },
 "nbformat": 4,
 "nbformat_minor": 5
}
