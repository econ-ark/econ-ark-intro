{
 "cells": [
  {
   "cell_type": "markdown",
   "id": "547110e7",
   "metadata": {
    "editable": true,
    "slideshow": {
     "controls": false,
     "height": "100%",
     "progress": true,
     "scroll": true,
     "slide_type": "slide",
     "width": "100%"
    },
    "tags": []
   },
   "source": [
    "<h1 style=\"text-align: center;\"><a href=\"https://github.com/econ-ark\">The Econ-ARK Project</a></h1>\n",
    "\n",
    "<h3 style=\"text-align: center;\">by the <a href=\"https://econ-ark.org/team\">Econ-ARK Team</a></h3>\n",
    "\n",
    "&nbsp;\n",
    "\n",
    "<h4 style=\"text-align: center;\">PI Christopher D. Carroll</h4>\n",
    "<h5 style=\"text-align: center;\"><strong>Formerly of the Division of Research and Statistics: 1990-95</strong></h5>\n",
    "<h5 style=\"text-align: center;\">Johns Hopkins University (1995-2024)</h5>\n",
    "\n",
    "&nbsp;\n",
    "\n",
    "<h4 style=\"text-align: center;\">Federal Reserve Micro to Macro Conference</h4>\n",
    "<h4 style=\"text-align: center;\">February 21 2024</h4>\n",
    "\n",
    "<h6 style=\"text-align: center;\"><a href=\"https://github.com/econ-ark/econ-ark-intro\">https://github.com/econ-ark/econ-ark-intro</a></h6>\n"
   ]
  },
  {
   "cell_type": "markdown",
   "id": "9e45f2dd-5953-463d-ae89-ab9cfee8f7eb",
   "metadata": {
    "editable": true,
    "jp-MarkdownHeadingCollapsed": true,
    "slideshow": {
     "slide_type": "slide"
    },
    "tags": []
   },
   "source": [
    "<h2 style=\"text-align: center;\">Thanks to ...</h2>\n",
    "\n",
    "### History\n",
    "\n",
    "#### Consumer Financial Protection Bureau\n",
    "\n",
    "- Micro structural modeling needs to be much easier\n",
    "\n",
    "#### Sloan Foundation\n",
    "\n",
    "- HA Macro needs to be much easier\n",
    "\n",
    "#### Think Forward Institute\n",
    "\n",
    "- Household finance modeling needs to be much easier\n",
    "\n",
    "#### DARPA\n",
    "\n",
    "- (Redacted)\n"
   ]
  },
  {
   "cell_type": "markdown",
   "id": "9dfca0be-c9e9-4670-9bf3-6d3b6a7c1aeb",
   "metadata": {
    "editable": true,
    "slideshow": {
     "slide_type": "slide"
    },
    "tags": []
   },
   "source": [
    "<h3 style=\"text-align: center;\">Toolkit</h3>\n",
    "\n",
    "## Model-Building Tools: [docs.econ-ark.org](https://docs.econ-ark.org)\n",
    "\n",
    "[Past-And-Future](https://econ-ark.github.io/PARK/#/)\n",
    "\n",
    "## Integrations\n",
    "\n",
    "[HARK + SSJ Example](https://github.com/wdu9/HARK_SSJ_example/blob/main/HARK_SSJ_example.ipynb)\n",
    "\n",
    "[Multivariate Interpolation](https://github.com/alanlujan91/multinterp)\n",
    "\n",
    "- on [regular grids](https://alanlujan91.curve.space/multivariate-interpolation)\n",
    "- on [curvilinear grids](https://alanlujan91.curve.space/curvilinear-interpolation)\n",
    "- on [unstructured grids](https://alanlujan91.curve.space/unstructured-interpolation)\n"
   ]
  },
  {
   "cell_type": "markdown",
   "id": "ea7bd0df-ab32-4f25-89e7-9e57dfe62040",
   "metadata": {
    "editable": true,
    "jp-MarkdownHeadingCollapsed": true,
    "slideshow": {
     "slide_type": "slide"
    },
    "tags": []
   },
   "source": [
    "<h2 style=\"text-align: center;\">Reproducible Computation</h2>\n",
    "\n",
    "### [REMARK](https://github.com/econ-ark/REMARK)\n",
    "\n",
    "- [An Illustrated Guide to REMARKs](https://econ-ark.github.io/OverARK/#/)\n",
    "- [beyond-the-streetlight:repo](https://github.com/econ-ark/beyond-the-streetlight)\n",
    "- [beyond-the-streetlight:live](https://econ-ark.github.io/beyond-the-streetlight/#/)\n",
    "- [Pandemic](https://econ-ark.org/materials/pandemic/)\n",
    "\n",
    "### [The Future: Develop a Standard for Journal Submissions](https://streaklinks.com/B3GiPDT5uas3EwUmHA9Atw1s/https%3A%2F%2Fwww.loom.com%2Fshare%2F92cf159f24454cbcafd1b612f83a8c4b%3Futm_medium%3Dgif)\n"
   ]
  }
 ],
 "metadata": {
  "celltoolbar": "Slideshow",
  "kernelspec": {
   "display_name": "Python 3 (ipykernel)",
   "language": "python",
   "name": "python3"
  },
  "language_info": {
   "codemirror_mode": {
    "name": "ipython",
    "version": 3
   },
   "file_extension": ".py",
   "mimetype": "text/x-python",
   "name": "python",
   "nbconvert_exporter": "python",
   "pygments_lexer": "ipython3",
   "version": "3.10.10"
  }
 },
 "nbformat": 4,
 "nbformat_minor": 5
}
